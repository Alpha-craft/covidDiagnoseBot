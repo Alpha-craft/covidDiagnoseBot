{
 "cells": [
  {
   "cell_type": "code",
   "execution_count": 9,
   "id": "3117a3f0",
   "metadata": {
    "scrolled": false
   },
   "outputs": [],
   "source": [
    "from telegram.ext import Updater,CommandHandler,MessageHandler,Filters,CallbackQueryHandler\n",
    "from telegram import InlineKeyboardButton, InlineKeyboardMarkup, Update,ForceReply, parsemode,ReplyKeyboardMarkup"
   ]
  },
  {
   "cell_type": "code",
   "execution_count": 10,
   "id": "a0abfb7c",
   "metadata": {},
   "outputs": [],
   "source": [
    "TOKEN = \"1984425169:AAGHyd_rVPFz4vjHGdd6GBc428POodtjNT4\""
   ]
  },
  {
   "cell_type": "code",
   "execution_count": 11,
   "id": "60eb5d1e",
   "metadata": {},
   "outputs": [],
   "source": [
    "def start(update,context):\n",
    "    update.message.reply_text(\"Start\")\n",
    "    keyboard = [\n",
    "        [InlineKeyboardButton(\"Hayasaka Mei\",callback_data=\"tems1\")],\n",
    "        [\n",
    "           #param pertama adalah yang ditampilkan sedangkan callback_data adalah data yang dapat diolah\n",
    "            InlineKeyboardButton(\"Kanzaki Rio\", callback_data='tems2'),\n",
    "            InlineKeyboardButton(\"Eula Lawrance\", callback_data='tems3'),\n",
    "        ],\n",
    "        [\n",
    "          InlineKeyboardButton(\"Amber\", callback_data='tems4'),\n",
    "          InlineKeyboardButton(\"Frederica Baumann\", callback_data='tems5'),\n",
    "        ],\n",
    "        [\n",
    "          InlineKeyboardButton(\"Rita Rossweisse\", callback_data=\"tems6\"),\n",
    "        ]\n",
    "    ]\n",
    "    reply_markup = InlineKeyboardMarkup(keyboard) #keyboard button\n",
    "\n",
    "    update.message.reply_text('Pilih Waifu mu:', reply_markup=reply_markup)"
   ]
  },
  {
   "cell_type": "code",
   "execution_count": 12,
   "id": "956227d5",
   "metadata": {},
   "outputs": [],
   "source": [
    "def button(update,context) -> None:\n",
    "    query = update.callback_query\n",
    "    if query.data == 'tems1':\n",
    "        query.edit_message_text(text=f\"Waifu yang dipilih: {query.data}\")\n",
    "        query.message.reply_text(\"Hayasaka Mei dayo\")\n",
    "        \n",
    "    if query.data == 'tems2':\n",
    "        query.edit_message_text(text=f\"Waifu yang dipilih: {query.data}\")\n",
    "        query.message.reply_text(\"Hayasaka Mei dayo\")"
   ]
  },
  {
   "cell_type": "code",
   "execution_count": 13,
   "id": "b3eb6326",
   "metadata": {},
   "outputs": [],
   "source": [
    "def echo(update,context):\n",
    "    pesan = update.message.text.lower().split()\n",
    "    #Mimror\n",
    "    if update.message.text:\n",
    "        update.message.reply_text(update.message.text)\n",
    "        \n",
    "        "
   ]
  },
  {
   "cell_type": "code",
   "execution_count": null,
   "id": "6282902b",
   "metadata": {},
   "outputs": [],
   "source": [
    "updater = Updater(TOKEN,use_context=True)\n",
    "\n",
    "dp = updater.dispatcher\n",
    "dp.add_handler(CallbackQueryHandler(button))\n",
    "dp.add_handler(CommandHandler(\"start\",start))\n",
    "dp.add_handler(MessageHandler(Filters.text,echo))\n",
    "#run Bot\n",
    "\n",
    "updater.start_polling()\n",
    "\n",
    "updater.idle()"
   ]
  },
  {
   "cell_type": "code",
   "execution_count": null,
   "id": "f80b8c07",
   "metadata": {},
   "outputs": [],
   "source": []
  },
  {
   "cell_type": "code",
   "execution_count": null,
   "id": "87f2eebd",
   "metadata": {},
   "outputs": [],
   "source": []
  },
  {
   "cell_type": "code",
   "execution_count": null,
   "id": "c8094641",
   "metadata": {},
   "outputs": [],
   "source": []
  },
  {
   "cell_type": "code",
   "execution_count": null,
   "id": "5eefebea",
   "metadata": {},
   "outputs": [],
   "source": []
  },
  {
   "cell_type": "code",
   "execution_count": null,
   "id": "69f4d77b",
   "metadata": {},
   "outputs": [],
   "source": []
  }
 ],
 "metadata": {
  "kernelspec": {
   "display_name": "Python 3 (ipykernel)",
   "language": "python",
   "name": "python3"
  },
  "language_info": {
   "codemirror_mode": {
    "name": "ipython",
    "version": 3
   },
   "file_extension": ".py",
   "mimetype": "text/x-python",
   "name": "python",
   "nbconvert_exporter": "python",
   "pygments_lexer": "ipython3",
   "version": "3.9.6"
  }
 },
 "nbformat": 4,
 "nbformat_minor": 5
}
