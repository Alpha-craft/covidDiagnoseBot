{
 "cells": [
  {
   "cell_type": "code",
   "execution_count": 8,
   "id": "3117a3f0",
   "metadata": {
    "scrolled": true
   },
   "outputs": [],
   "source": [
    "from telegram.ext import Updater,CommandHandler,MessageHandler,Filters"
   ]
  },
  {
   "cell_type": "code",
   "execution_count": 6,
   "id": "a0abfb7c",
   "metadata": {},
   "outputs": [],
   "source": [
    "TOKEN = \"1984425169:AAGHyd_rVPFz4vjHGdd6GBc428POodtjNT4\""
   ]
  },
  {
   "cell_type": "code",
   "execution_count": 2,
   "id": "60eb5d1e",
   "metadata": {},
   "outputs": [],
   "source": [
    "def start(update,context):\n",
    "    update.message.reply_text(\"Start\")\n",
    "    "
   ]
  },
  {
   "cell_type": "code",
   "execution_count": 4,
   "id": "7d995196",
   "metadata": {},
   "outputs": [],
   "source": [
    "def echo(update,context):\n",
    "    pesan = update.message.text.lower().split()\n",
    "    #Mimror\n",
    "    update.message.reply_text(pesan)\n",
    "    "
   ]
  },
  {
   "cell_type": "code",
   "execution_count": null,
   "id": "6282902b",
   "metadata": {},
   "outputs": [],
   "source": [
    "updater = Updater(TOKEN,use_context=True)\n",
    "\n",
    "dp = updater.dispatcher\n",
    "dp.add_handler(CommandHandler(\"start\",start))\n",
    "dp.add_handler(MessageHandler(Filters.text,echo))\n",
    "#run Bot\n",
    "\n",
    "updater.start_polling()\n",
    "\n",
    "updater.idle()\n"
   ]
  },
  {
   "cell_type": "code",
   "execution_count": null,
   "id": "4506ecaf",
   "metadata": {},
   "outputs": [],
   "source": []
  }
 ],
 "metadata": {
  "kernelspec": {
   "display_name": "Python 3 (ipykernel)",
   "language": "python",
   "name": "python3"
  },
  "language_info": {
   "codemirror_mode": {
    "name": "ipython",
    "version": 3
   },
   "file_extension": ".py",
   "mimetype": "text/x-python",
   "name": "python",
   "nbconvert_exporter": "python",
   "pygments_lexer": "ipython3",
   "version": "3.9.6"
  }
 },
 "nbformat": 4,
 "nbformat_minor": 5
}
